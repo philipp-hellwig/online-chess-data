{
  "cells": [
    {
      "cell_type": "markdown",
      "metadata": {
        "id": "4y8Y3NGCu6ut"
      },
      "source": [
        "## Resources\n",
        "\n",
        "- Berserk documentation: https://berserk.readthedocs.io/en/master/index.html\n",
        "\n",
        "- Lichess API documentation: https://lichess.org/api\n",
        "\n",
        "- Lichess Database: https://database.lichess.org/"
      ]
    },
    {
      "cell_type": "markdown",
      "metadata": {
        "id": "n2xXzBdXCfWM"
      },
      "source": [
        "## Imports"
      ]
    },
    {
      "cell_type": "code",
      "execution_count": 2,
      "metadata": {
        "id": "NdKCtyA-ExAE"
      },
      "outputs": [],
      "source": [
        "import dotenv\n",
        "import requests\n",
        "import os\n",
        "import berserk\n",
        "import random\n",
        "import pandas as pd\n",
        "import numpy as np\n",
        "from datetime import date\n",
        "from tqdm import tqdm\n",
        "import matplotlib.pyplot as plt"
      ]
    },
    {
      "cell_type": "markdown",
      "metadata": {
        "id": "AOUl7rghFcvl"
      },
      "source": [
        "## Load API token and usernames\n",
        "\n",
        "The current username list is retrieved from the game data found on database.lichess.org"
      ]
    },
    {
      "cell_type": "code",
      "execution_count": 3,
      "metadata": {
        "colab": {
          "base_uri": "https://localhost:8080/"
        },
        "id": "bmC899EUE7rJ",
        "outputId": "0890b447-e122-4b23-b501-f818a467c99e"
      },
      "outputs": [],
      "source": [
        "# get token:\n",
        "api_token = os.environ.get('LICHESS_API_TOKEN')\n",
        "\n",
        "# import usernames as list:\n",
        "with open(\"../data/usernames.txt\", \"r\") as file:\n",
        "    users = file.read().split(\",\")"
      ]
    },
    {
      "cell_type": "markdown",
      "metadata": {
        "id": "dgIzYIOzY60q"
      },
      "source": [
        "## Get a sample of users, start a session"
      ]
    },
    {
      "cell_type": "code",
      "execution_count": 132,
      "metadata": {
        "id": "ViHo0gnwSLJb"
      },
      "outputs": [],
      "source": [
        "users_sample = random.sample(users, k=400)\n",
        "\n",
        "# opening a session to access lichess data:\n",
        "session = berserk.TokenSession(api_token)\n",
        "client = berserk.Client(session)"
      ]
    },
    {
      "cell_type": "markdown",
      "metadata": {
        "id": "lTyaFO8m6V6z"
      },
      "source": [
        "## Request data from the API"
      ]
    },
    {
      "cell_type": "code",
      "execution_count": 134,
      "metadata": {
        "colab": {
          "base_uri": "https://localhost:8080/"
        },
        "id": "7cLoeEpyCgp6",
        "outputId": "2f020e33-4681-406c-8d34-4bcf50ce8662"
      },
      "outputs": [
        {
          "name": "stderr",
          "output_type": "stream",
          "text": [
            "100%|██████████| 400/400 [3:06:04<00:00, 27.91s/it]   \n"
          ]
        }
      ],
      "source": [
        "# rating dataframes:\n",
        "rapid_ratings = pd.DataFrame(columns=['username', \"year\", \t\"month\", \t\"day\", \t\"rating\"])\n",
        "puzzle_ratings = pd.DataFrame(columns=['username', \"year\", \t\"month\", \t\"day\", \t\"rating\"])\n",
        "\n",
        "# rapid games dataframe:\n",
        "rapid_games = pd.DataFrame()\n",
        "\n",
        "for user in tqdm(users_sample):\n",
        "    try:\n",
        "      user_history = client.users.get_rating_history(user)\n",
        "      if len(user_history[2][\"points\"]) > 50 and len(user_history[2][\"points\"]) < 500: # only extract data if this user has more than 50 rated rapid games.\n",
        "\n",
        "        # rating data:\n",
        "        # rapid ratings\n",
        "        user_rapid_ratings = pd.DataFrame(user_history[2][\"points\"])\n",
        "        user_rapid_ratings.insert(0, \"username\", user)\n",
        "        user_rapid_ratings['month'] += 1  # because months in lichess API start at 0 we have to increment by 1\n",
        "        rapid_ratings = pd.concat([rapid_ratings, user_rapid_ratings])\n",
        "\n",
        "        # puzzle ratings\n",
        "        user_puzzle_ratings = pd.DataFrame(user_history[13][\"points\"])\n",
        "        user_puzzle_ratings.insert(0, \"username\", user)\n",
        "        user_puzzle_ratings['month'] += 1  # because months in lichess API start at 0 we have to increment by 1\n",
        "        puzzle_ratings = pd.concat([puzzle_ratings, user_puzzle_ratings])\n",
        "\n",
        "        # rapid games information:\n",
        "        user_games = pd.DataFrame(list(client.games.export_by_player(user, evals=True, clocks=True, opening=True, perf_type=\"rapid\")))\n",
        "        user_games.insert(0, \"username\", user)\n",
        "        rapid_games = pd.concat([rapid_games, user_games])\n",
        "\n",
        "    except KeyError:\n",
        "      pass\n",
        "    except berserk.exceptions.ResponseError:\n",
        "      pass"
      ]
    },
    {
      "cell_type": "markdown",
      "metadata": {
        "id": "ZUecckLl-rzb"
      },
      "source": [
        "## Formatting Data"
      ]
    },
    {
      "cell_type": "markdown",
      "metadata": {
        "id": "1tmD3A5TcVsK"
      },
      "source": [
        "### Rapid Ratings"
      ]
    },
    {
      "cell_type": "code",
      "execution_count": 135,
      "metadata": {
        "colab": {
          "base_uri": "https://localhost:8080/",
          "height": 424
        },
        "id": "2ltjjL7iPHPe",
        "outputId": "6baa2db1-0518-4f5e-93f5-032a07cb99d9"
      },
      "outputs": [
        {
          "data": {
            "text/html": [
              "<div>\n",
              "<style scoped>\n",
              "    .dataframe tbody tr th:only-of-type {\n",
              "        vertical-align: middle;\n",
              "    }\n",
              "\n",
              "    .dataframe tbody tr th {\n",
              "        vertical-align: top;\n",
              "    }\n",
              "\n",
              "    .dataframe thead th {\n",
              "        text-align: right;\n",
              "    }\n",
              "</style>\n",
              "<table border=\"1\" class=\"dataframe\">\n",
              "  <thead>\n",
              "    <tr style=\"text-align: right;\">\n",
              "      <th></th>\n",
              "      <th>username</th>\n",
              "      <th>rating</th>\n",
              "      <th>date</th>\n",
              "    </tr>\n",
              "  </thead>\n",
              "  <tbody>\n",
              "    <tr>\n",
              "      <th>0</th>\n",
              "      <td>volamcaothu</td>\n",
              "      <td>1221</td>\n",
              "      <td>2018-04-13</td>\n",
              "    </tr>\n",
              "    <tr>\n",
              "      <th>1</th>\n",
              "      <td>volamcaothu</td>\n",
              "      <td>1195</td>\n",
              "      <td>2018-04-18</td>\n",
              "    </tr>\n",
              "    <tr>\n",
              "      <th>2</th>\n",
              "      <td>volamcaothu</td>\n",
              "      <td>1124</td>\n",
              "      <td>2018-04-19</td>\n",
              "    </tr>\n",
              "    <tr>\n",
              "      <th>3</th>\n",
              "      <td>volamcaothu</td>\n",
              "      <td>1186</td>\n",
              "      <td>2018-07-10</td>\n",
              "    </tr>\n",
              "    <tr>\n",
              "      <th>4</th>\n",
              "      <td>volamcaothu</td>\n",
              "      <td>1149</td>\n",
              "      <td>2018-09-29</td>\n",
              "    </tr>\n",
              "    <tr>\n",
              "      <th>...</th>\n",
              "      <td>...</td>\n",
              "      <td>...</td>\n",
              "      <td>...</td>\n",
              "    </tr>\n",
              "    <tr>\n",
              "      <th>126</th>\n",
              "      <td>vodovorot1951</td>\n",
              "      <td>2100</td>\n",
              "      <td>2023-10-13</td>\n",
              "    </tr>\n",
              "    <tr>\n",
              "      <th>127</th>\n",
              "      <td>vodovorot1951</td>\n",
              "      <td>2089</td>\n",
              "      <td>2023-10-17</td>\n",
              "    </tr>\n",
              "    <tr>\n",
              "      <th>128</th>\n",
              "      <td>vodovorot1951</td>\n",
              "      <td>2097</td>\n",
              "      <td>2023-11-01</td>\n",
              "    </tr>\n",
              "    <tr>\n",
              "      <th>129</th>\n",
              "      <td>vodovorot1951</td>\n",
              "      <td>2103</td>\n",
              "      <td>2023-11-03</td>\n",
              "    </tr>\n",
              "    <tr>\n",
              "      <th>130</th>\n",
              "      <td>vodovorot1951</td>\n",
              "      <td>2088</td>\n",
              "      <td>2023-11-04</td>\n",
              "    </tr>\n",
              "  </tbody>\n",
              "</table>\n",
              "<p>24609 rows × 3 columns</p>\n",
              "</div>"
            ],
            "text/plain": [
              "          username rating       date\n",
              "0      volamcaothu   1221 2018-04-13\n",
              "1      volamcaothu   1195 2018-04-18\n",
              "2      volamcaothu   1124 2018-04-19\n",
              "3      volamcaothu   1186 2018-07-10\n",
              "4      volamcaothu   1149 2018-09-29\n",
              "..             ...    ...        ...\n",
              "126  vodovorot1951   2100 2023-10-13\n",
              "127  vodovorot1951   2089 2023-10-17\n",
              "128  vodovorot1951   2097 2023-11-01\n",
              "129  vodovorot1951   2103 2023-11-03\n",
              "130  vodovorot1951   2088 2023-11-04\n",
              "\n",
              "[24609 rows x 3 columns]"
            ]
          },
          "execution_count": 135,
          "metadata": {},
          "output_type": "execute_result"
        }
      ],
      "source": [
        "rapid_ratings[\"date\"] = pd.to_datetime(rapid_ratings[rapid_ratings.columns[1:4]])\n",
        "rapid_ratings = rapid_ratings.drop(labels=[\"year\",\"month\",\"day\"], axis=1)\n",
        "rapid_ratings"
      ]
    },
    {
      "cell_type": "markdown",
      "metadata": {
        "id": "sY9Ub9VJAtnc"
      },
      "source": [
        "### Puzzle Ratings"
      ]
    },
    {
      "cell_type": "code",
      "execution_count": 136,
      "metadata": {
        "colab": {
          "base_uri": "https://localhost:8080/",
          "height": 424
        },
        "id": "1aL5-JdY6bfa",
        "outputId": "3a09a291-7679-4bdd-d4b5-7c1db5b8fa3b"
      },
      "outputs": [
        {
          "data": {
            "text/html": [
              "<div>\n",
              "<style scoped>\n",
              "    .dataframe tbody tr th:only-of-type {\n",
              "        vertical-align: middle;\n",
              "    }\n",
              "\n",
              "    .dataframe tbody tr th {\n",
              "        vertical-align: top;\n",
              "    }\n",
              "\n",
              "    .dataframe thead th {\n",
              "        text-align: right;\n",
              "    }\n",
              "</style>\n",
              "<table border=\"1\" class=\"dataframe\">\n",
              "  <thead>\n",
              "    <tr style=\"text-align: right;\">\n",
              "      <th></th>\n",
              "      <th>username</th>\n",
              "      <th>rating</th>\n",
              "      <th>date</th>\n",
              "    </tr>\n",
              "  </thead>\n",
              "  <tbody>\n",
              "    <tr>\n",
              "      <th>0</th>\n",
              "      <td>volamcaothu</td>\n",
              "      <td>1384</td>\n",
              "      <td>2019-07-14</td>\n",
              "    </tr>\n",
              "    <tr>\n",
              "      <th>1</th>\n",
              "      <td>volamcaothu</td>\n",
              "      <td>1464</td>\n",
              "      <td>2019-08-31</td>\n",
              "    </tr>\n",
              "    <tr>\n",
              "      <th>2</th>\n",
              "      <td>volamcaothu</td>\n",
              "      <td>1414</td>\n",
              "      <td>2019-09-14</td>\n",
              "    </tr>\n",
              "    <tr>\n",
              "      <th>3</th>\n",
              "      <td>volamcaothu</td>\n",
              "      <td>1544</td>\n",
              "      <td>2019-09-16</td>\n",
              "    </tr>\n",
              "    <tr>\n",
              "      <th>4</th>\n",
              "      <td>volamcaothu</td>\n",
              "      <td>1638</td>\n",
              "      <td>2019-09-17</td>\n",
              "    </tr>\n",
              "    <tr>\n",
              "      <th>...</th>\n",
              "      <td>...</td>\n",
              "      <td>...</td>\n",
              "      <td>...</td>\n",
              "    </tr>\n",
              "    <tr>\n",
              "      <th>117</th>\n",
              "      <td>vodovorot1951</td>\n",
              "      <td>2335</td>\n",
              "      <td>2023-09-18</td>\n",
              "    </tr>\n",
              "    <tr>\n",
              "      <th>118</th>\n",
              "      <td>vodovorot1951</td>\n",
              "      <td>2389</td>\n",
              "      <td>2023-09-25</td>\n",
              "    </tr>\n",
              "    <tr>\n",
              "      <th>119</th>\n",
              "      <td>vodovorot1951</td>\n",
              "      <td>2444</td>\n",
              "      <td>2023-10-02</td>\n",
              "    </tr>\n",
              "    <tr>\n",
              "      <th>120</th>\n",
              "      <td>vodovorot1951</td>\n",
              "      <td>2337</td>\n",
              "      <td>2023-10-03</td>\n",
              "    </tr>\n",
              "    <tr>\n",
              "      <th>121</th>\n",
              "      <td>vodovorot1951</td>\n",
              "      <td>2418</td>\n",
              "      <td>2023-10-14</td>\n",
              "    </tr>\n",
              "  </tbody>\n",
              "</table>\n",
              "<p>11494 rows × 3 columns</p>\n",
              "</div>"
            ],
            "text/plain": [
              "          username rating       date\n",
              "0      volamcaothu   1384 2019-07-14\n",
              "1      volamcaothu   1464 2019-08-31\n",
              "2      volamcaothu   1414 2019-09-14\n",
              "3      volamcaothu   1544 2019-09-16\n",
              "4      volamcaothu   1638 2019-09-17\n",
              "..             ...    ...        ...\n",
              "117  vodovorot1951   2335 2023-09-18\n",
              "118  vodovorot1951   2389 2023-09-25\n",
              "119  vodovorot1951   2444 2023-10-02\n",
              "120  vodovorot1951   2337 2023-10-03\n",
              "121  vodovorot1951   2418 2023-10-14\n",
              "\n",
              "[11494 rows x 3 columns]"
            ]
          },
          "execution_count": 136,
          "metadata": {},
          "output_type": "execute_result"
        }
      ],
      "source": [
        "puzzle_ratings[\"date\"] = pd.to_datetime(puzzle_ratings[puzzle_ratings.columns[1:4]])\n",
        "puzzle_ratings = puzzle_ratings.drop(labels=[\"year\",\"month\",\"day\"], axis=1)\n",
        "puzzle_ratings"
      ]
    },
    {
      "cell_type": "markdown",
      "metadata": {
        "id": "RXvzeufsfN55"
      },
      "source": [
        "### Rapid Games"
      ]
    },
    {
      "cell_type": "code",
      "execution_count": 137,
      "metadata": {
        "id": "LfUuh6Kjis8H"
      },
      "outputs": [
        {
          "name": "stderr",
          "output_type": "stream",
          "text": [
            "C:\\Users\\phili\\AppData\\Local\\Temp\\ipykernel_25876\\21175303.py:17: FutureWarning: DataFrame.applymap has been deprecated. Use DataFrame.map instead.\n",
            "  players = players.applymap(lambda x: x.get(\"user\", {}).get(\"name\"))\n"
          ]
        }
      ],
      "source": [
        "# drop games with nonstandard starting position:\n",
        "rapid_games = rapid_games[rapid_games[\"variant\"]==\"standard\"]\n",
        "\n",
        "# drop games that were not started:\n",
        "rapid_games = rapid_games[rapid_games.status!=\"noStart\"]\n",
        "\n",
        "# reset indices:\n",
        "rapid_games = rapid_games.reset_index(drop=True)\n",
        "\n",
        "\n",
        "# change id to link for the game:\n",
        "rapid_games.loc[:,\"id\"] = \"https://lichess.org/\" + rapid_games.loc[:,\"id\"]\n",
        "\n",
        "\n",
        "# extract white and black columns from players column:\n",
        "players = pd.DataFrame(rapid_games[\"players\"].to_list())\n",
        "players = players.applymap(lambda x: x.get(\"user\", {}).get(\"name\"))\n",
        "rapid_games = pd.concat([rapid_games, players], axis=1)\n",
        "\n",
        "\n",
        "# extract opening names:\n",
        "rapid_games[\"opening\"] = rapid_games.apply(lambda x: x[\"opening\"], axis=1).apply(lambda x: x.get(\"name\") if not pd.isna(x) else x)\n",
        "\n",
        "\n",
        "# extract evaluations:\n",
        "def extract_eval(x):\n",
        "    if isinstance(x, list):\n",
        "        return [item['eval'] for item in x if isinstance(item, dict) and 'eval' in item]\n",
        "    else:\n",
        "        return []\n",
        "rapid_games['analysis'] = rapid_games['analysis'].apply(extract_eval)\n",
        "\n",
        "\n",
        "# add outcome of the game (win, draw, loss) from the perspective of the username:\n",
        "conditions = [\n",
        "    rapid_games[\"winner\"].isna(),\n",
        "    (rapid_games[\"winner\"]==\"white\") & (rapid_games[\"white\"]==rapid_games[\"username\"]),\n",
        "    (rapid_games[\"winner\"]==\"black\") & (rapid_games[\"black\"]==rapid_games[\"username\"]),\n",
        "]\n",
        "choices = [\n",
        "    \"draw\",\n",
        "    \"win\",\n",
        "    \"win\"\n",
        "]\n",
        "rapid_games[\"outcome\"] = np.select(conditions, choices, default=\"loss\")\n",
        "\n",
        "\n",
        "# drop unnecessary columns:\n",
        "rapid_games = rapid_games.drop(labels=[\"variant\",\"perf\",\"players\",\"swiss\",\"initialFen\",\"tournament\"], axis=1)"
      ]
    },
    {
      "cell_type": "markdown",
      "metadata": {
        "id": "IQfbxd--6NLi"
      },
      "source": [
        "## Save as .csv"
      ]
    },
    {
      "cell_type": "code",
      "execution_count": 140,
      "metadata": {
        "id": "dTcSWRIJ6Lb5"
      },
      "outputs": [],
      "source": [
        "puzzle_ratings.to_csv(\"../data/puzzle_ratings_Dec15.csv\", index=False)\n",
        "rapid_ratings.to_csv(\"../data/rapid_ratings_Dec15.csv\", index=False)\n",
        "rapid_games.to_csv(\"../data/rapid_games_Dec15.csv\", index=False)"
      ]
    }
  ],
  "metadata": {
    "colab": {
      "provenance": []
    },
    "kernelspec": {
      "display_name": "Python 3",
      "name": "python3"
    },
    "language_info": {
      "codemirror_mode": {
        "name": "ipython",
        "version": 3
      },
      "file_extension": ".py",
      "mimetype": "text/x-python",
      "name": "python",
      "nbconvert_exporter": "python",
      "pygments_lexer": "ipython3",
      "version": "3.12.0"
    }
  },
  "nbformat": 4,
  "nbformat_minor": 0
}
