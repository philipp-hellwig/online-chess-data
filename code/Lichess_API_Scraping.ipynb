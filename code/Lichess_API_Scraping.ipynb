{
  "cells": [
    {
      "cell_type": "markdown",
      "metadata": {
        "id": "4y8Y3NGCu6ut"
      },
      "source": [
        "## Resources\n",
        "\n",
        "- Berserk documentation: https://berserk.readthedocs.io/en/master/index.html\n",
        "\n",
        "- Lichess API documentation: https://lichess.org/api\n",
        "\n",
        "- Lichess Database: https://database.lichess.org/"
      ]
    },
    {
      "cell_type": "markdown",
      "metadata": {
        "id": "n2xXzBdXCfWM"
      },
      "source": [
        "## Imports"
      ]
    },
    {
      "cell_type": "code",
      "execution_count": 1,
      "metadata": {
        "id": "NdKCtyA-ExAE"
      },
      "outputs": [],
      "source": [
        "import os\n",
        "import berserk\n",
        "import random\n",
        "import pandas as pd\n",
        "import numpy as np\n",
        "from tqdm import tqdm"
      ]
    },
    {
      "cell_type": "markdown",
      "metadata": {
        "id": "AOUl7rghFcvl"
      },
      "source": [
        "## Load API token and usernames\n",
        "\n",
        "The current username list is retrieved from the game data found on database.lichess.org"
      ]
    },
    {
      "cell_type": "code",
      "execution_count": 2,
      "metadata": {
        "colab": {
          "base_uri": "https://localhost:8080/"
        },
        "id": "bmC899EUE7rJ",
        "outputId": "0890b447-e122-4b23-b501-f818a467c99e"
      },
      "outputs": [],
      "source": [
        "# get token:\n",
        "api_token = os.environ.get('LICHESS_API_TOKEN')"
      ]
    },
    {
      "cell_type": "markdown",
      "metadata": {
        "id": "dgIzYIOzY60q"
      },
      "source": [
        "## Get a sample of users, start a session"
      ]
    },
    {
      "cell_type": "code",
      "execution_count": 3,
      "metadata": {
        "id": "ViHo0gnwSLJb"
      },
      "outputs": [],
      "source": [
        "with open(\"../data/usernames_2024-08.txt\", \"r\") as file:\n",
        "    usernames = file.read().split(\",\")\n",
        "random.seed(1)\n",
        "users_sample = random.sample(usernames, k=500)[:50]\n",
        "\n",
        "# opening a session to access lichess data:\n",
        "session = berserk.TokenSession(api_token)\n",
        "client = berserk.Client(session)"
      ]
    },
    {
      "cell_type": "markdown",
      "metadata": {
        "id": "lTyaFO8m6V6z"
      },
      "source": [
        "## Request data from the API"
      ]
    },
    {
      "cell_type": "code",
      "execution_count": 8,
      "metadata": {
        "colab": {
          "base_uri": "https://localhost:8080/"
        },
        "id": "7cLoeEpyCgp6",
        "outputId": "2f020e33-4681-406c-8d34-4bcf50ce8662"
      },
      "outputs": [
        {
          "name": "stderr",
          "output_type": "stream",
          "text": [
            "100%|██████████| 50/50 [54:35<00:00, 65.51s/it]   \n"
          ]
        }
      ],
      "source": [
        "# rating dataframes:\n",
        "rapid_ratings = pd.DataFrame(columns=['username', \"year\", \t\"month\", \t\"day\", \t\"rating\"])\n",
        "puzzle_ratings = pd.DataFrame(columns=['username', \"year\", \t\"month\", \t\"day\", \t\"rating\"])\n",
        "\n",
        "# rapid games dataframe:\n",
        "rapid_games = pd.DataFrame()\n",
        "\n",
        "for user in tqdm(users_sample):\n",
        "    try:\n",
        "      # user_history = client.users.get_rating_history(user)\n",
        "      # if len(user_history[2][\"points\"]) > 50 and len(user_history[2][\"points\"]) < 500: # only extract data if this user has more than 50 rated rapid games.\n",
        "\n",
        "        # rating data:\n",
        "        # rapid ratings\n",
        "        # user_rapid_ratings = pd.DataFrame(user_history[2][\"points\"])\n",
        "        # user_rapid_ratings.insert(0, \"username\", user)\n",
        "        # user_rapid_ratings['month'] += 1  # because months in lichess API start at 0 we have to increment by 1\n",
        "        # rapid_ratings = pd.concat([rapid_ratings, user_rapid_ratings])\n",
        "\n",
        "        # # puzzle ratings\n",
        "        # user_puzzle_ratings = pd.DataFrame(user_history[13][\"points\"])\n",
        "        # user_puzzle_ratings.insert(0, \"username\", user)\n",
        "        # user_puzzle_ratings['month'] += 1  # because months in lichess API start at 0 we have to increment by 1\n",
        "        # puzzle_ratings = pd.concat([puzzle_ratings, user_puzzle_ratings])\n",
        "      \n",
        "      game_mode_data = pd.DataFrame(client.users.get_public_data(\"oldgandhi\")[\"perfs\"])\n",
        "      total_games = game_mode_data.loc[\"games\",:].sum()\n",
        "      # calculate percent of blitz games\n",
        "      if \"blitz\" in game_mode_data.columns:\n",
        "          prop_blitz = game_mode_data.loc[\"games\",\"blitz\"]/total_games\n",
        "          if prop_blitz > .05:\n",
        "            # include user, get games\n",
        "            # blitz games information:\n",
        "            user_games = pd.DataFrame(list(client.games.export_by_player(user, evals=True, clocks=True, opening=True, perf_type=\"blitz\")))\n",
        "            user_games.insert(0, \"username\", user)\n",
        "            rapid_games = pd.concat([rapid_games, user_games])\n",
        "    except KeyError:\n",
        "      pass\n",
        "    except berserk.exceptions.ResponseError:\n",
        "      pass"
      ]
    },
    {
      "cell_type": "markdown",
      "metadata": {
        "id": "ZUecckLl-rzb"
      },
      "source": [
        "## Formatting Data"
      ]
    },
    {
      "cell_type": "markdown",
      "metadata": {
        "id": "1tmD3A5TcVsK"
      },
      "source": [
        "### Rapid Ratings"
      ]
    },
    {
      "cell_type": "code",
      "execution_count": 10,
      "metadata": {
        "colab": {
          "base_uri": "https://localhost:8080/",
          "height": 424
        },
        "id": "2ltjjL7iPHPe",
        "outputId": "6baa2db1-0518-4f5e-93f5-032a07cb99d9"
      },
      "outputs": [
        {
          "data": {
            "text/html": [
              "<div>\n",
              "<style scoped>\n",
              "    .dataframe tbody tr th:only-of-type {\n",
              "        vertical-align: middle;\n",
              "    }\n",
              "\n",
              "    .dataframe tbody tr th {\n",
              "        vertical-align: top;\n",
              "    }\n",
              "\n",
              "    .dataframe thead th {\n",
              "        text-align: right;\n",
              "    }\n",
              "</style>\n",
              "<table border=\"1\" class=\"dataframe\">\n",
              "  <thead>\n",
              "    <tr style=\"text-align: right;\">\n",
              "      <th></th>\n",
              "      <th>username</th>\n",
              "      <th>rating</th>\n",
              "      <th>date</th>\n",
              "    </tr>\n",
              "  </thead>\n",
              "  <tbody>\n",
              "  </tbody>\n",
              "</table>\n",
              "</div>"
            ],
            "text/plain": [
              "Empty DataFrame\n",
              "Columns: [username, rating, date]\n",
              "Index: []"
            ]
          },
          "execution_count": 10,
          "metadata": {},
          "output_type": "execute_result"
        }
      ],
      "source": [
        "rapid_ratings[\"date\"] = pd.to_datetime(rapid_ratings[rapid_ratings.columns[1:4]])\n",
        "rapid_ratings = rapid_ratings.drop(labels=[\"year\",\"month\",\"day\"], axis=1)\n",
        "rapid_ratings"
      ]
    },
    {
      "cell_type": "markdown",
      "metadata": {
        "id": "sY9Ub9VJAtnc"
      },
      "source": [
        "### Puzzle Ratings"
      ]
    },
    {
      "cell_type": "code",
      "execution_count": 11,
      "metadata": {
        "colab": {
          "base_uri": "https://localhost:8080/",
          "height": 424
        },
        "id": "1aL5-JdY6bfa",
        "outputId": "3a09a291-7679-4bdd-d4b5-7c1db5b8fa3b"
      },
      "outputs": [
        {
          "data": {
            "text/html": [
              "<div>\n",
              "<style scoped>\n",
              "    .dataframe tbody tr th:only-of-type {\n",
              "        vertical-align: middle;\n",
              "    }\n",
              "\n",
              "    .dataframe tbody tr th {\n",
              "        vertical-align: top;\n",
              "    }\n",
              "\n",
              "    .dataframe thead th {\n",
              "        text-align: right;\n",
              "    }\n",
              "</style>\n",
              "<table border=\"1\" class=\"dataframe\">\n",
              "  <thead>\n",
              "    <tr style=\"text-align: right;\">\n",
              "      <th></th>\n",
              "      <th>username</th>\n",
              "      <th>rating</th>\n",
              "      <th>date</th>\n",
              "    </tr>\n",
              "  </thead>\n",
              "  <tbody>\n",
              "  </tbody>\n",
              "</table>\n",
              "</div>"
            ],
            "text/plain": [
              "Empty DataFrame\n",
              "Columns: [username, rating, date]\n",
              "Index: []"
            ]
          },
          "execution_count": 11,
          "metadata": {},
          "output_type": "execute_result"
        }
      ],
      "source": [
        "puzzle_ratings[\"date\"] = pd.to_datetime(puzzle_ratings[puzzle_ratings.columns[1:4]])\n",
        "puzzle_ratings = puzzle_ratings.drop(labels=[\"year\",\"month\",\"day\"], axis=1)\n",
        "puzzle_ratings"
      ]
    },
    {
      "cell_type": "markdown",
      "metadata": {
        "id": "RXvzeufsfN55"
      },
      "source": [
        "### Rapid Games"
      ]
    },
    {
      "cell_type": "code",
      "execution_count": 12,
      "metadata": {
        "id": "LfUuh6Kjis8H"
      },
      "outputs": [
        {
          "name": "stderr",
          "output_type": "stream",
          "text": [
            "C:\\Users\\phili\\AppData\\Local\\Temp\\ipykernel_19816\\1502889337.py:17: FutureWarning: DataFrame.applymap has been deprecated. Use DataFrame.map instead.\n",
            "  players = players.applymap(lambda x: x.get(\"user\", {}).get(\"name\"))\n"
          ]
        }
      ],
      "source": [
        "# drop games with nonstandard starting position:\n",
        "rapid_games = rapid_games[rapid_games[\"variant\"]==\"standard\"]\n",
        "\n",
        "# drop games that were not started:\n",
        "rapid_games = rapid_games[rapid_games.status!=\"noStart\"]\n",
        "\n",
        "# reset indices:\n",
        "rapid_games = rapid_games.reset_index(drop=True)\n",
        "\n",
        "\n",
        "# change id to link for the game:\n",
        "rapid_games.loc[:,\"id\"] = \"https://lichess.org/\" + rapid_games.loc[:,\"id\"]\n",
        "\n",
        "\n",
        "# extract white and black columns from players column:\n",
        "players = pd.DataFrame(rapid_games[\"players\"].to_list())\n",
        "players = players.applymap(lambda x: x.get(\"user\", {}).get(\"name\"))\n",
        "rapid_games = pd.concat([rapid_games, players], axis=1)\n",
        "\n",
        "\n",
        "# extract opening names:\n",
        "rapid_games[\"opening\"] = rapid_games.apply(lambda x: x[\"opening\"], axis=1).apply(lambda x: x.get(\"name\") if not pd.isna(x) else x)\n",
        "\n",
        "\n",
        "# extract evaluations:\n",
        "def extract_eval(x):\n",
        "    if isinstance(x, list):\n",
        "        return [item['eval'] for item in x if isinstance(item, dict) and 'eval' in item]\n",
        "    else:\n",
        "        return []\n",
        "rapid_games['analysis'] = rapid_games['analysis'].apply(extract_eval)\n",
        "\n",
        "\n",
        "# add outcome of the game (win, draw, loss) from the perspective of the username:\n",
        "conditions = [\n",
        "    rapid_games[\"winner\"].isna(),\n",
        "    (rapid_games[\"winner\"]==\"white\") & (rapid_games[\"white\"]==rapid_games[\"username\"]),\n",
        "    (rapid_games[\"winner\"]==\"black\") & (rapid_games[\"black\"]==rapid_games[\"username\"]),\n",
        "]\n",
        "choices = [\n",
        "    \"draw\",\n",
        "    \"win\",\n",
        "    \"win\"\n",
        "]\n",
        "rapid_games[\"outcome\"] = np.select(conditions, choices, default=\"loss\")\n",
        "\n",
        "\n",
        "# drop unnecessary columns:\n",
        "rapid_games = rapid_games.drop(labels=[\"variant\",\"perf\",\"players\",\"swiss\",\"initialFen\",\"tournament\"], axis=1)"
      ]
    },
    {
      "cell_type": "code",
      "execution_count": 13,
      "metadata": {},
      "outputs": [
        {
          "data": {
            "text/html": [
              "<div>\n",
              "<style scoped>\n",
              "    .dataframe tbody tr th:only-of-type {\n",
              "        vertical-align: middle;\n",
              "    }\n",
              "\n",
              "    .dataframe tbody tr th {\n",
              "        vertical-align: top;\n",
              "    }\n",
              "\n",
              "    .dataframe thead th {\n",
              "        text-align: right;\n",
              "    }\n",
              "</style>\n",
              "<table border=\"1\" class=\"dataframe\">\n",
              "  <thead>\n",
              "    <tr style=\"text-align: right;\">\n",
              "      <th></th>\n",
              "      <th>username</th>\n",
              "      <th>id</th>\n",
              "      <th>rated</th>\n",
              "      <th>speed</th>\n",
              "      <th>createdAt</th>\n",
              "      <th>lastMoveAt</th>\n",
              "      <th>status</th>\n",
              "      <th>source</th>\n",
              "      <th>winner</th>\n",
              "      <th>opening</th>\n",
              "      <th>moves</th>\n",
              "      <th>clocks</th>\n",
              "      <th>clock</th>\n",
              "      <th>analysis</th>\n",
              "      <th>white</th>\n",
              "      <th>black</th>\n",
              "      <th>outcome</th>\n",
              "    </tr>\n",
              "  </thead>\n",
              "  <tbody>\n",
              "    <tr>\n",
              "      <th>0</th>\n",
              "      <td>Jesuspb</td>\n",
              "      <td>https://lichess.org/YnbbGez4</td>\n",
              "      <td>True</td>\n",
              "      <td>blitz</td>\n",
              "      <td>2024-09-20 01:28:50.652000+00:00</td>\n",
              "      <td>2024-09-20 01:36:54.501000+00:00</td>\n",
              "      <td>outoftime</td>\n",
              "      <td>arena</td>\n",
              "      <td>black</td>\n",
              "      <td>Scandinavian Defense: Mieses-Kotroc Variation</td>\n",
              "      <td>e4 d5 exd5 Qxd5 c4 Qd6 Nc3 c6 d4 Nf6 Nf3 Bg4 B...</td>\n",
              "      <td>[30003, 15003, 29859, 15003, 29595, 15003, 294...</td>\n",
              "      <td>{'initial': 300, 'increment': 0, 'totalTime': ...</td>\n",
              "      <td>[]</td>\n",
              "      <td>smart36</td>\n",
              "      <td>Jesuspb</td>\n",
              "      <td>win</td>\n",
              "    </tr>\n",
              "    <tr>\n",
              "      <th>1</th>\n",
              "      <td>Jesuspb</td>\n",
              "      <td>https://lichess.org/DOADHk9r</td>\n",
              "      <td>True</td>\n",
              "      <td>blitz</td>\n",
              "      <td>2024-09-19 18:47:21.685000+00:00</td>\n",
              "      <td>2024-09-19 18:53:47.287000+00:00</td>\n",
              "      <td>resign</td>\n",
              "      <td>arena</td>\n",
              "      <td>white</td>\n",
              "      <td>Saragossa Opening</td>\n",
              "      <td>c3 d6 d3 Nf6 Qc2 Nbd7 Nd2 e5 e4 Be7 Ngf3 c6 d4...</td>\n",
              "      <td>[15003, 30003, 15003, 29891, 15003, 29795, 148...</td>\n",
              "      <td>{'initial': 300, 'increment': 0, 'totalTime': ...</td>\n",
              "      <td>[]</td>\n",
              "      <td>Jesuspb</td>\n",
              "      <td>BadMoves4</td>\n",
              "      <td>win</td>\n",
              "    </tr>\n",
              "    <tr>\n",
              "      <th>2</th>\n",
              "      <td>Jesuspb</td>\n",
              "      <td>https://lichess.org/VMzxrbWL</td>\n",
              "      <td>True</td>\n",
              "      <td>blitz</td>\n",
              "      <td>2024-09-19 18:41:33.915000+00:00</td>\n",
              "      <td>2024-09-19 18:45:27.799000+00:00</td>\n",
              "      <td>mate</td>\n",
              "      <td>arena</td>\n",
              "      <td>white</td>\n",
              "      <td>Saragossa Opening</td>\n",
              "      <td>c3 e5 d3 d5 Qc2 Nc6 Nd2 Nf6 e4 d4 Ngf3 Bd6 Be2...</td>\n",
              "      <td>[15003, 30003, 15003, 29915, 14923, 29811, 149...</td>\n",
              "      <td>{'initial': 300, 'increment': 0, 'totalTime': ...</td>\n",
              "      <td>[]</td>\n",
              "      <td>Jesuspb</td>\n",
              "      <td>Dario_Presza</td>\n",
              "      <td>win</td>\n",
              "    </tr>\n",
              "    <tr>\n",
              "      <th>3</th>\n",
              "      <td>Jesuspb</td>\n",
              "      <td>https://lichess.org/Hd7808LL</td>\n",
              "      <td>True</td>\n",
              "      <td>blitz</td>\n",
              "      <td>2024-09-19 03:26:10.518000+00:00</td>\n",
              "      <td>2024-09-19 03:30:33.191000+00:00</td>\n",
              "      <td>outoftime</td>\n",
              "      <td>arena</td>\n",
              "      <td>black</td>\n",
              "      <td>Scandinavian Defense: Gubinsky-Melts Defense</td>\n",
              "      <td>e4 d5 exd5 Qxd5 Nc3 Qd6 Bc4 c6 d3 Nf6 Nge2 Be6...</td>\n",
              "      <td>[18003, 9003, 17883, 9003, 17803, 9003, 17275,...</td>\n",
              "      <td>{'initial': 180, 'increment': 0, 'totalTime': ...</td>\n",
              "      <td>[]</td>\n",
              "      <td>Christian198208</td>\n",
              "      <td>Jesuspb</td>\n",
              "      <td>win</td>\n",
              "    </tr>\n",
              "    <tr>\n",
              "      <th>4</th>\n",
              "      <td>Jesuspb</td>\n",
              "      <td>https://lichess.org/VcU5HRYu</td>\n",
              "      <td>True</td>\n",
              "      <td>blitz</td>\n",
              "      <td>2024-09-19 03:21:51.726000+00:00</td>\n",
              "      <td>2024-09-19 03:25:46.971000+00:00</td>\n",
              "      <td>resign</td>\n",
              "      <td>arena</td>\n",
              "      <td>black</td>\n",
              "      <td>Scandinavian Defense: Mieses-Kotroc Variation</td>\n",
              "      <td>e4 d5 exd5 Qxd5 d4 Qd6 Nf3 c6 Bc4 Nf6 Bxf7+ Kx...</td>\n",
              "      <td>[18003, 9003, 17891, 9003, 17811, 9003, 17651,...</td>\n",
              "      <td>{'initial': 180, 'increment': 0, 'totalTime': ...</td>\n",
              "      <td>[]</td>\n",
              "      <td>Chaillas</td>\n",
              "      <td>Jesuspb</td>\n",
              "      <td>win</td>\n",
              "    </tr>\n",
              "    <tr>\n",
              "      <th>...</th>\n",
              "      <td>...</td>\n",
              "      <td>...</td>\n",
              "      <td>...</td>\n",
              "      <td>...</td>\n",
              "      <td>...</td>\n",
              "      <td>...</td>\n",
              "      <td>...</td>\n",
              "      <td>...</td>\n",
              "      <td>...</td>\n",
              "      <td>...</td>\n",
              "      <td>...</td>\n",
              "      <td>...</td>\n",
              "      <td>...</td>\n",
              "      <td>...</td>\n",
              "      <td>...</td>\n",
              "      <td>...</td>\n",
              "      <td>...</td>\n",
              "    </tr>\n",
              "    <tr>\n",
              "      <th>96502</th>\n",
              "      <td>Adrianes13</td>\n",
              "      <td>https://lichess.org/XmX0Wl4a</td>\n",
              "      <td>True</td>\n",
              "      <td>blitz</td>\n",
              "      <td>2024-04-04 21:11:43.666000+00:00</td>\n",
              "      <td>2024-04-04 21:17:00.084000+00:00</td>\n",
              "      <td>outoftime</td>\n",
              "      <td>pool</td>\n",
              "      <td>white</td>\n",
              "      <td>Amar Opening</td>\n",
              "      <td>Nh3 d5 e3 Bxh3 gxh3 Nf6 Qf3 e6 c4 c6 cxd5 cxd5...</td>\n",
              "      <td>[18003, 18003, 17723, 17347, 17587, 16723, 171...</td>\n",
              "      <td>{'initial': 180, 'increment': 0, 'totalTime': ...</td>\n",
              "      <td>[-59, -62, -107, -99, -60, -79, -102, -101, -9...</td>\n",
              "      <td>Adrianes13</td>\n",
              "      <td>theogantz</td>\n",
              "      <td>win</td>\n",
              "    </tr>\n",
              "    <tr>\n",
              "      <th>96503</th>\n",
              "      <td>Adrianes13</td>\n",
              "      <td>https://lichess.org/chqkemno</td>\n",
              "      <td>True</td>\n",
              "      <td>blitz</td>\n",
              "      <td>2024-04-04 14:53:23.503000+00:00</td>\n",
              "      <td>2024-04-04 14:56:51.757000+00:00</td>\n",
              "      <td>mate</td>\n",
              "      <td>pool</td>\n",
              "      <td>white</td>\n",
              "      <td>King's Pawn Game: Gunderam Gambit</td>\n",
              "      <td>e4 e5 Nf3 c6 Nxe5 Na6 Bxa6 bxa6 Qf3 f6 Ng4 Rb8...</td>\n",
              "      <td>[18003, 18003, 17771, 17307, 17475, 15827, 169...</td>\n",
              "      <td>{'initial': 180, 'increment': 0, 'totalTime': ...</td>\n",
              "      <td>[]</td>\n",
              "      <td>rmazeiks</td>\n",
              "      <td>Adrianes13</td>\n",
              "      <td>loss</td>\n",
              "    </tr>\n",
              "    <tr>\n",
              "      <th>96504</th>\n",
              "      <td>Adrianes13</td>\n",
              "      <td>https://lichess.org/pprbbEK0</td>\n",
              "      <td>True</td>\n",
              "      <td>blitz</td>\n",
              "      <td>2024-04-04 14:50:17.640000+00:00</td>\n",
              "      <td>2024-04-04 14:53:05.481000+00:00</td>\n",
              "      <td>mate</td>\n",
              "      <td>pool</td>\n",
              "      <td>black</td>\n",
              "      <td>Amar Opening</td>\n",
              "      <td>Nh3 e5 e4 Nc6 Qf3 Qf6 Qxf6 Nxf6 Ng5 Nd4 b3 Nxc...</td>\n",
              "      <td>[18003, 18003, 17827, 16955, 17707, 16643, 174...</td>\n",
              "      <td>{'initial': 180, 'increment': 0, 'totalTime': ...</td>\n",
              "      <td>[]</td>\n",
              "      <td>Adrianes13</td>\n",
              "      <td>rmazeiks</td>\n",
              "      <td>loss</td>\n",
              "    </tr>\n",
              "    <tr>\n",
              "      <th>96505</th>\n",
              "      <td>Adrianes13</td>\n",
              "      <td>https://lichess.org/Ck3pruk5</td>\n",
              "      <td>False</td>\n",
              "      <td>blitz</td>\n",
              "      <td>2023-01-29 15:03:05.274000+00:00</td>\n",
              "      <td>2023-01-29 15:10:19.862000+00:00</td>\n",
              "      <td>outoftime</td>\n",
              "      <td>lobby</td>\n",
              "      <td>white</td>\n",
              "      <td>Van't Kruijs Opening</td>\n",
              "      <td>e3 a5 Ne2 h5 d4 b6 g3 Na6 Bg2 c6 c4 Nh6 Nbc3 d...</td>\n",
              "      <td>[30003, 30003, 30003, 29699, 30003, 29531, 299...</td>\n",
              "      <td>{'initial': 300, 'increment': 0, 'totalTime': ...</td>\n",
              "      <td>[]</td>\n",
              "      <td>Fantom83</td>\n",
              "      <td>Adrianes13</td>\n",
              "      <td>loss</td>\n",
              "    </tr>\n",
              "    <tr>\n",
              "      <th>96506</th>\n",
              "      <td>Adrianes13</td>\n",
              "      <td>https://lichess.org/odrwQTeO</td>\n",
              "      <td>False</td>\n",
              "      <td>blitz</td>\n",
              "      <td>2023-01-28 23:54:57.580000+00:00</td>\n",
              "      <td>2023-01-28 23:57:08.035000+00:00</td>\n",
              "      <td>timeout</td>\n",
              "      <td>lobby</td>\n",
              "      <td>black</td>\n",
              "      <td>Kádas Opening</td>\n",
              "      <td>h4 Nf6 a4 g6 Nh3 Bg7 Na3 d6 Rg1 Nc6 Rb1 Bd7 g4...</td>\n",
              "      <td>[30003, 30003, 29091, 29827, 27883, 29643, 275...</td>\n",
              "      <td>{'initial': 300, 'increment': 0, 'totalTime': ...</td>\n",
              "      <td>[]</td>\n",
              "      <td>Adrianes13</td>\n",
              "      <td>itsmylife</td>\n",
              "      <td>loss</td>\n",
              "    </tr>\n",
              "  </tbody>\n",
              "</table>\n",
              "<p>96507 rows × 17 columns</p>\n",
              "</div>"
            ],
            "text/plain": [
              "         username                            id  rated  speed  \\\n",
              "0         Jesuspb  https://lichess.org/YnbbGez4   True  blitz   \n",
              "1         Jesuspb  https://lichess.org/DOADHk9r   True  blitz   \n",
              "2         Jesuspb  https://lichess.org/VMzxrbWL   True  blitz   \n",
              "3         Jesuspb  https://lichess.org/Hd7808LL   True  blitz   \n",
              "4         Jesuspb  https://lichess.org/VcU5HRYu   True  blitz   \n",
              "...           ...                           ...    ...    ...   \n",
              "96502  Adrianes13  https://lichess.org/XmX0Wl4a   True  blitz   \n",
              "96503  Adrianes13  https://lichess.org/chqkemno   True  blitz   \n",
              "96504  Adrianes13  https://lichess.org/pprbbEK0   True  blitz   \n",
              "96505  Adrianes13  https://lichess.org/Ck3pruk5  False  blitz   \n",
              "96506  Adrianes13  https://lichess.org/odrwQTeO  False  blitz   \n",
              "\n",
              "                             createdAt                       lastMoveAt  \\\n",
              "0     2024-09-20 01:28:50.652000+00:00 2024-09-20 01:36:54.501000+00:00   \n",
              "1     2024-09-19 18:47:21.685000+00:00 2024-09-19 18:53:47.287000+00:00   \n",
              "2     2024-09-19 18:41:33.915000+00:00 2024-09-19 18:45:27.799000+00:00   \n",
              "3     2024-09-19 03:26:10.518000+00:00 2024-09-19 03:30:33.191000+00:00   \n",
              "4     2024-09-19 03:21:51.726000+00:00 2024-09-19 03:25:46.971000+00:00   \n",
              "...                                ...                              ...   \n",
              "96502 2024-04-04 21:11:43.666000+00:00 2024-04-04 21:17:00.084000+00:00   \n",
              "96503 2024-04-04 14:53:23.503000+00:00 2024-04-04 14:56:51.757000+00:00   \n",
              "96504 2024-04-04 14:50:17.640000+00:00 2024-04-04 14:53:05.481000+00:00   \n",
              "96505 2023-01-29 15:03:05.274000+00:00 2023-01-29 15:10:19.862000+00:00   \n",
              "96506 2023-01-28 23:54:57.580000+00:00 2023-01-28 23:57:08.035000+00:00   \n",
              "\n",
              "          status source winner                                        opening  \\\n",
              "0      outoftime  arena  black  Scandinavian Defense: Mieses-Kotroc Variation   \n",
              "1         resign  arena  white                              Saragossa Opening   \n",
              "2           mate  arena  white                              Saragossa Opening   \n",
              "3      outoftime  arena  black   Scandinavian Defense: Gubinsky-Melts Defense   \n",
              "4         resign  arena  black  Scandinavian Defense: Mieses-Kotroc Variation   \n",
              "...          ...    ...    ...                                            ...   \n",
              "96502  outoftime   pool  white                                   Amar Opening   \n",
              "96503       mate   pool  white              King's Pawn Game: Gunderam Gambit   \n",
              "96504       mate   pool  black                                   Amar Opening   \n",
              "96505  outoftime  lobby  white                           Van't Kruijs Opening   \n",
              "96506    timeout  lobby  black                                  Kádas Opening   \n",
              "\n",
              "                                                   moves  \\\n",
              "0      e4 d5 exd5 Qxd5 c4 Qd6 Nc3 c6 d4 Nf6 Nf3 Bg4 B...   \n",
              "1      c3 d6 d3 Nf6 Qc2 Nbd7 Nd2 e5 e4 Be7 Ngf3 c6 d4...   \n",
              "2      c3 e5 d3 d5 Qc2 Nc6 Nd2 Nf6 e4 d4 Ngf3 Bd6 Be2...   \n",
              "3      e4 d5 exd5 Qxd5 Nc3 Qd6 Bc4 c6 d3 Nf6 Nge2 Be6...   \n",
              "4      e4 d5 exd5 Qxd5 d4 Qd6 Nf3 c6 Bc4 Nf6 Bxf7+ Kx...   \n",
              "...                                                  ...   \n",
              "96502  Nh3 d5 e3 Bxh3 gxh3 Nf6 Qf3 e6 c4 c6 cxd5 cxd5...   \n",
              "96503  e4 e5 Nf3 c6 Nxe5 Na6 Bxa6 bxa6 Qf3 f6 Ng4 Rb8...   \n",
              "96504  Nh3 e5 e4 Nc6 Qf3 Qf6 Qxf6 Nxf6 Ng5 Nd4 b3 Nxc...   \n",
              "96505  e3 a5 Ne2 h5 d4 b6 g3 Na6 Bg2 c6 c4 Nh6 Nbc3 d...   \n",
              "96506  h4 Nf6 a4 g6 Nh3 Bg7 Na3 d6 Rg1 Nc6 Rb1 Bd7 g4...   \n",
              "\n",
              "                                                  clocks  \\\n",
              "0      [30003, 15003, 29859, 15003, 29595, 15003, 294...   \n",
              "1      [15003, 30003, 15003, 29891, 15003, 29795, 148...   \n",
              "2      [15003, 30003, 15003, 29915, 14923, 29811, 149...   \n",
              "3      [18003, 9003, 17883, 9003, 17803, 9003, 17275,...   \n",
              "4      [18003, 9003, 17891, 9003, 17811, 9003, 17651,...   \n",
              "...                                                  ...   \n",
              "96502  [18003, 18003, 17723, 17347, 17587, 16723, 171...   \n",
              "96503  [18003, 18003, 17771, 17307, 17475, 15827, 169...   \n",
              "96504  [18003, 18003, 17827, 16955, 17707, 16643, 174...   \n",
              "96505  [30003, 30003, 30003, 29699, 30003, 29531, 299...   \n",
              "96506  [30003, 30003, 29091, 29827, 27883, 29643, 275...   \n",
              "\n",
              "                                                   clock  \\\n",
              "0      {'initial': 300, 'increment': 0, 'totalTime': ...   \n",
              "1      {'initial': 300, 'increment': 0, 'totalTime': ...   \n",
              "2      {'initial': 300, 'increment': 0, 'totalTime': ...   \n",
              "3      {'initial': 180, 'increment': 0, 'totalTime': ...   \n",
              "4      {'initial': 180, 'increment': 0, 'totalTime': ...   \n",
              "...                                                  ...   \n",
              "96502  {'initial': 180, 'increment': 0, 'totalTime': ...   \n",
              "96503  {'initial': 180, 'increment': 0, 'totalTime': ...   \n",
              "96504  {'initial': 180, 'increment': 0, 'totalTime': ...   \n",
              "96505  {'initial': 300, 'increment': 0, 'totalTime': ...   \n",
              "96506  {'initial': 300, 'increment': 0, 'totalTime': ...   \n",
              "\n",
              "                                                analysis            white  \\\n",
              "0                                                     []          smart36   \n",
              "1                                                     []          Jesuspb   \n",
              "2                                                     []          Jesuspb   \n",
              "3                                                     []  Christian198208   \n",
              "4                                                     []         Chaillas   \n",
              "...                                                  ...              ...   \n",
              "96502  [-59, -62, -107, -99, -60, -79, -102, -101, -9...       Adrianes13   \n",
              "96503                                                 []         rmazeiks   \n",
              "96504                                                 []       Adrianes13   \n",
              "96505                                                 []         Fantom83   \n",
              "96506                                                 []       Adrianes13   \n",
              "\n",
              "              black outcome  \n",
              "0           Jesuspb     win  \n",
              "1         BadMoves4     win  \n",
              "2      Dario_Presza     win  \n",
              "3           Jesuspb     win  \n",
              "4           Jesuspb     win  \n",
              "...             ...     ...  \n",
              "96502     theogantz     win  \n",
              "96503    Adrianes13    loss  \n",
              "96504      rmazeiks    loss  \n",
              "96505    Adrianes13    loss  \n",
              "96506     itsmylife    loss  \n",
              "\n",
              "[96507 rows x 17 columns]"
            ]
          },
          "execution_count": 13,
          "metadata": {},
          "output_type": "execute_result"
        }
      ],
      "source": [
        "rapid_games"
      ]
    },
    {
      "cell_type": "markdown",
      "metadata": {
        "id": "IQfbxd--6NLi"
      },
      "source": [
        "## Save as .csv"
      ]
    },
    {
      "cell_type": "code",
      "execution_count": 17,
      "metadata": {
        "id": "dTcSWRIJ6Lb5"
      },
      "outputs": [],
      "source": [
        "puzzle_ratings.to_csv(\"../data/puzzle_ratings_Dec15.csv\", index=False)\n",
        "rapid_ratings.to_csv(\"../data/blitz_n50_Aug24.csv\", index=False)\n",
        "rapid_games.to_csv(\"../data/blitz_n50_Aug24.csv\", index=False)"
      ]
    }
  ],
  "metadata": {
    "colab": {
      "provenance": []
    },
    "kernelspec": {
      "display_name": "Python 3",
      "name": "python3"
    },
    "language_info": {
      "codemirror_mode": {
        "name": "ipython",
        "version": 3
      },
      "file_extension": ".py",
      "mimetype": "text/x-python",
      "name": "python",
      "nbconvert_exporter": "python",
      "pygments_lexer": "ipython3",
      "version": "3.12.0"
    }
  },
  "nbformat": 4,
  "nbformat_minor": 0
}
