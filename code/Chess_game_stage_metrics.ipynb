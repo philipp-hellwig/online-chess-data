{
 "cells": [
  {
   "cell_type": "markdown",
   "metadata": {
    "editable": true,
    "slideshow": {
     "slide_type": "slide"
    },
    "tags": []
   },
   "source": [
    "# Overview\n",
    "The goal of this script is to create engine evaluations for the moves of the player in question grouped by game stage.\n",
    "\n",
    "For this, I will use the \"stockfish\" package. https://pypi.org/project/stockfish/\n",
    "\n",
    "Furthermore, I will divide each game into the sections opening, middle game and endgame."
   ]
  },
  {
   "cell_type": "markdown",
   "metadata": {
    "editable": true,
    "id": "LSZd-p-LjGc_",
    "slideshow": {
     "slide_type": "skip"
    },
    "tags": []
   },
   "source": [
    "## Imports and Data load"
   ]
  },
  {
   "cell_type": "code",
   "execution_count": 2,
   "metadata": {
    "editable": true,
    "slideshow": {
     "slide_type": "skip"
    },
    "tags": []
   },
   "outputs": [],
   "source": [
    "import pandas as pd\n",
    "import numpy as np\n",
    "import matplotlib.pyplot as plt\n",
    "from stockfish import Stockfish\n",
    "import ast"
   ]
  },
  {
   "cell_type": "code",
   "execution_count": null,
   "metadata": {},
   "outputs": [],
   "source": [
    "rapid_games = pd.read_csv(\"../data/rapid_games_Dec15(LAN).csv\")\n",
    "rapid_games.drop(columns='Unnamed: 0', axis=1, inplace=True) # - remove the index column\n",
    "\n",
    "# convert date strings to date time:\n",
    "rapid_games[\"createdAt\"] = rapid_games[\"createdAt\"].apply(pd.Timestamp)\n",
    "rapid_games[\"lastMoveAt\"] = rapid_games[\"lastMoveAt\"].apply(pd.Timestamp)\n",
    "\n",
    "# convert move sequence string to a list:\n",
    "rapid_games[\"LAN\"] = rapid_games[\"LAN\"].str.split()"
   ]
  },
  {
   "cell_type": "code",
   "execution_count": 50,
   "metadata": {},
   "outputs": [],
   "source": [
    "latest_date = rapid_games['createdAt'].max()\n",
    "# only analyse the last 6 months of play\n",
    "rapid_games = rapid_games[rapid_games['createdAt'] > pd.Timestamp(year=latest_date.year, month=latest_date.month - 6, day=latest_date.day, tz='UTC')]"
   ]
  },
  {
   "cell_type": "code",
   "execution_count": null,
   "metadata": {},
   "outputs": [],
   "source": [
    "# loading the stockfish engine\n",
    "from stockfish_extension import StockfishExt\n",
    "sfe = StockfishExt(\"../stockfish/stockfish-windows-x86-64-avx2.exe\")\n",
    "\n",
    "# evaluate all the games of the dataframe\n",
    "rapid_games[\"evaluation\"] = rapid_games.apply(lambda x: sfe(x[\"LAN\"]), axis=1)"
   ]
  },
  {
   "cell_type": "markdown",
   "metadata": {
    "editable": true,
    "slideshow": {
     "slide_type": "slide"
    },
    "tags": []
   },
   "source": [
    "### Depth of Search: Speed-Accuracy Tradeoff\n",
    "- generally it is desirable to have a deeper stockfish evaluation, however, the time cost increases exponentially as depth increases."
   ]
  },
  {
   "cell_type": "code",
   "execution_count": 104,
   "metadata": {
    "editable": true,
    "slideshow": {
     "slide_type": "slide"
    },
    "tags": []
   },
   "outputs": [
    {
     "data": {
      "text/plain": [
       "Text(0.5, 1.0, 'Evaluation Time Cost by Depth (56-move game)')"
      ]
     },
     "execution_count": 104,
     "metadata": {},
     "output_type": "execute_result"
    },
    {
     "data": {
      "image/png": "[encoded data removed]",
      "text/plain": [
       "<Figure size 640x480 with 1 Axes>"
      ]
     },
     "metadata": {},
     "output_type": "display_data"
    }
   ],
   "source": [
    "plt.scatter(depths, times)\n",
    "plt.ylabel(\"Time in seconds\")\n",
    "plt.xlabel(\"Search Depth\")\n",
    "plt.title(f\"Evaluation Time Cost by Depth ({len(move_list)}-move game)\")"
   ]
  },
  {
   "cell_type": "code",
   "execution_count": 139,
   "metadata": {
    "editable": true,
    "slideshow": {
     "slide_type": "slide"
    },
    "tags": []
   },
   "outputs": [
    {
     "data": {
      "text/html": [
       "<div>\n",
       "<style scoped>\n",
       "    .dataframe tbody tr th:only-of-type {\n",
       "        vertical-align: middle;\n",
       "    }\n",
       "\n",
       "    .dataframe tbody tr th {\n",
       "        vertical-align: top;\n",
       "    }\n",
       "\n",
       "    .dataframe thead th {\n",
       "        text-align: right;\n",
       "    }\n",
       "</style>\n",
       "<table border=\"1\" class=\"dataframe\">\n",
       "  <thead>\n",
       "    <tr style=\"text-align: right;\">\n",
       "      <th></th>\n",
       "      <th>depth</th>\n",
       "      <th>computational cost in hours</th>\n",
       "    </tr>\n",
       "  </thead>\n",
       "  <tbody>\n",
       "    <tr>\n",
       "      <th>0</th>\n",
       "      <td>16</td>\n",
       "      <td>8</td>\n",
       "    </tr>\n",
       "    <tr>\n",
       "      <th>1</th>\n",
       "      <td>18</td>\n",
       "      <td>24</td>\n",
       "    </tr>\n",
       "    <tr>\n",
       "      <th>2</th>\n",
       "      <td>20</td>\n",
       "      <td>54</td>\n",
       "    </tr>\n",
       "    <tr>\n",
       "      <th>3</th>\n",
       "      <td>22</td>\n",
       "      <td>149</td>\n",
       "    </tr>\n",
       "    <tr>\n",
       "      <th>4</th>\n",
       "      <td>24</td>\n",
       "      <td>296</td>\n",
       "    </tr>\n",
       "    <tr>\n",
       "      <th>5</th>\n",
       "      <td>26</td>\n",
       "      <td>588</td>\n",
       "    </tr>\n",
       "    <tr>\n",
       "      <th>6</th>\n",
       "      <td>28</td>\n",
       "      <td>1229</td>\n",
       "    </tr>\n",
       "  </tbody>\n",
       "</table>\n",
       "</div>"
      ],
      "text/plain": [
       "   depth  computational cost in hours\n",
       "0     16                            8\n",
       "1     18                           24\n",
       "2     20                           54\n",
       "3     22                          149\n",
       "4     24                          296\n",
       "5     26                          588\n",
       "6     28                         1229"
      ]
     },
     "execution_count": 139,
     "metadata": {},
     "output_type": "execute_result"
    }
   ],
   "source": [
    "time_cost = pd.DataFrame(depths, columns=[\"depth\"])\n",
    "time_cost[\"computational cost in hours\"] = list(map(lambda x: x* 5539/3600, times))\n",
    "time_cost[\"computational cost in hours\"] = time_cost[\"computational cost in hours\"].astype(int)\n",
    "time_cost"
   ]
  },
  {
   "cell_type": "markdown",
   "metadata": {},
   "source": [
    "### Centipawn changes and Blunder metric"
   ]
  },
  {
   "cell_type": "code",
   "execution_count": 6,
   "metadata": {},
   "outputs": [],
   "source": [
    "def get_cp_losses(evals, white):\n",
    "    eval_changes = [] # first move eval change as 0\n",
    "    if white:\n",
    "        eval_changes.append(0)\n",
    "        for i in range(1,len(evals)):\n",
    "            eval_changes.append(evals[i-1] - evals[i])\n",
    "        return eval_changes[::2] # for white\n",
    "    else:\n",
    "        for i in range(1,len(evals)):\n",
    "            eval_changes.append(evals[i] - evals[i-1])\n",
    "        return eval_changes[::2] # for Black\n"
   ]
  },
  {
   "cell_type": "code",
   "execution_count": 7,
   "metadata": {},
   "outputs": [],
   "source": [
    "rapid_games[\"cp_losses\"] = [get_cp_losses(eval, username==white) for eval, username, white, in zip(rapid_games[\"evaluation\"], rapid_games[\"username\"], rapid_games[\"white\"])]"
   ]
  },
  {
   "cell_type": "markdown",
   "metadata": {},
   "source": [
    "### Averaged Centipawn loss"
   ]
  },
  {
   "cell_type": "code",
   "execution_count": null,
   "metadata": {},
   "outputs": [],
   "source": [
    "rapid_games[\"averaged_cp_loss\"] = rapid_games[\"cp_losses\"].apply(np.mean)"
   ]
  },
  {
   "cell_type": "markdown",
   "metadata": {},
   "source": [
    "### Number of Blunders\n",
    "\n",
    "I will use a simple definition for a blunder:\n",
    "If a move loses 200 centipawns or more, it counts as a blunder."
   ]
  },
  {
   "cell_type": "code",
   "execution_count": 8,
   "metadata": {},
   "outputs": [],
   "source": [
    "rapid_games[\"blunders\"] = rapid_games[\"cp_losses\"].apply(lambda x: sum(i>200 for i in x))"
   ]
  },
  {
   "cell_type": "markdown",
   "metadata": {},
   "source": [
    "### Thinking Times"
   ]
  },
  {
   "cell_type": "code",
   "execution_count": 11,
   "metadata": {},
   "outputs": [],
   "source": [
    "rapid_games[\"clocks\"] = rapid_games[\"clocks\"].apply(ast.literal_eval)\n",
    "rapid_games[\"clock\"] = rapid_games[\"clock\"].apply(ast.literal_eval)\n",
    "rapid_games[\"increment\"] = rapid_games[\"clock\"].apply(lambda x: x.get(\"increment\"))"
   ]
  },
  {
   "cell_type": "code",
   "execution_count": 13,
   "metadata": {},
   "outputs": [],
   "source": [
    "def get_move_times(clocks: list, white: bool, increment=0):\n",
    "    if white:\n",
    "        clocks = clocks[::2]\n",
    "    else:\n",
    "        clocks = clocks[1::2]\n",
    "\n",
    "    return [((clocks[i-1] - clocks[i])/100) + increment for i in range(1, len(clocks))]"
   ]
  },
  {
   "cell_type": "code",
   "execution_count": 14,
   "metadata": {},
   "outputs": [],
   "source": [
    "rapid_games[\"moveTimes\"] = rapid_games.apply(lambda x: get_move_times(x[\"clocks\"], x[\"username\"]==x[\"white\"], x[\"increment\"]), axis=1)"
   ]
  },
  {
   "cell_type": "markdown",
   "metadata": {},
   "source": [
    "### Save data"
   ]
  },
  {
   "cell_type": "code",
   "execution_count": 19,
   "metadata": {},
   "outputs": [],
   "source": [
    "rapid_games.to_csv(\"../data/rapid_games_Dec15final.csv\", index=False)"
   ]
  }
 ],
 "metadata": {
  "colab": {
   "provenance": []
  },
  "kernelspec": {
   "display_name": "Python 3 (ipykernel)",
   "language": "python",
   "name": "python3"
  },
  "language_info": {
   "codemirror_mode": {
    "name": "ipython",
    "version": 3
   },
   "file_extension": ".py",
   "mimetype": "text/x-python",
   "name": "python",
   "nbconvert_exporter": "python",
   "pygments_lexer": "ipython3",
   "version": "3.12.0"
  }
 },
 "nbformat": 4,
 "nbformat_minor": 4
}
